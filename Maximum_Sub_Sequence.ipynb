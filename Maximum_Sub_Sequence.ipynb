{
 "metadata": {
  "language_info": {
   "codemirror_mode": {
    "name": "ipython",
    "version": 3
   },
   "file_extension": ".py",
   "mimetype": "text/x-python",
   "name": "python",
   "nbconvert_exporter": "python",
   "pygments_lexer": "ipython3",
   "version": "3.7.4-final"
  },
  "orig_nbformat": 2,
  "kernelspec": {
   "name": "python3",
   "display_name": "Python 3",
   "language": "python"
  }
 },
 "nbformat": 4,
 "nbformat_minor": 2,
 "cells": [
  {
   "source": [
    "# Maximum Sub Sequence Problem\n",
    "Angenommen, man handelt mit Aktien und möchte rückblickend den grössten möglichen Kursgewinn berechnen, d.h. den optimalen Einstiegs- (Kauf) und Ausstiegszeitpunkt (Verkauf) bestimmen. <br> \n",
    "Oft sieht\n",
    "man die Kurse in einem Graphen. Die folgende Abbildung illustriert die Aufgabe.\n",
    "Bei einem Kursverlauf wie in Abbildung 1 wäre es optimal, wenn man die Aktie A zum grün markierten\n",
    "Zeitpunkt gekauft und zum rot markierten Zeitpunkt wieder verkauft hätte. Der Kursgewinn hätte dann\n",
    "dem blauen Pfeil entsprochen.\n",
    "Der Kursverlauf der Aktie sei als Liste mit den Differenzen von Tag zu Tag gegeben:"
   ],
   "cell_type": "markdown",
   "metadata": {}
  },
  {
   "cell_type": "code",
   "execution_count": 1,
   "metadata": {},
   "outputs": [],
   "source": [
    "stock = [31, -41, 59, 26, -53, 58, 97, -93, -23]"
   ]
  },
  {
   "cell_type": "code",
   "execution_count": 2,
   "metadata": {},
   "outputs": [
    {
     "output_type": "stream",
     "name": "stdout",
     "text": [
      "[31, -10, 49, 75, 22, 80, 177, 84, 61]\n"
     ]
    }
   ],
   "source": [
    "stock_abs = []\n",
    "for i in range(len(stock)):\n",
    "    stock_abs.append(sum(stock[:i+1]))\n",
    "#stock_abs.append(-11)\n",
    "print(stock_abs)"
   ]
  },
  {
   "cell_type": "code",
   "execution_count": 3,
   "metadata": {},
   "outputs": [
    {
     "output_type": "stream",
     "name": "stdout",
     "text": [
      "index low: 1\nindex high: 6\nGewinn: 187\n"
     ]
    }
   ],
   "source": [
    "high_low = sorted(stock_abs)\n",
    "high_low.reverse()\n",
    "found_max = False #to end the first for loop\n",
    "for i in sorted(stock_abs):\n",
    "    for e in high_low:\n",
    "        if stock_abs.index(i) < stock_abs.index(e):\n",
    "            print(\"index low:\", stock_abs.index(i))\n",
    "            print(\"index high:\", stock_abs.index(e))\n",
    "            print(\"Gewinn:\", e-i)\n",
    "            found_max = True\n",
    "            break\n",
    "    if found_max == True:\n",
    "        break"
   ]
  },
  {
   "cell_type": "code",
   "execution_count": 4,
   "metadata": {},
   "outputs": [],
   "source": [
    "def max_profit(stock):\n",
    "    '''\n",
    "    stock = stock as diff of each day\n",
    "    returns = max possible profit\n",
    "    '''\n",
    "    if len(stock) < 2:\n",
    "        raise TypeError (\"list must have atleast 2 values\")\n",
    "    stock_abs = [] #list with absolute stock values\n",
    "    for i in range(len(stock)):\n",
    "        stock_abs.append(sum(stock[:i+1]))\n",
    "    high_low = sorted(stock_abs)\n",
    "    high_low.reverse()\n",
    "    for i in sorted(stock_abs): \n",
    "        for e in high_low:\n",
    "            if stock_abs.index(i) < stock_abs.index(e):\n",
    "                return e-i\n"
   ]
  },
  {
   "cell_type": "code",
   "execution_count": 5,
   "metadata": {},
   "outputs": [
    {
     "output_type": "stream",
     "name": "stdout",
     "text": [
      "187\n"
     ]
    }
   ],
   "source": [
    "stock = [31, -41, 59, 26, -53, 58, 97, -93, -23]\n",
    "print( max_profit(stock) )"
   ]
  },
  {
   "source": [
    "Wie kann man diese Funktion testen? Welche Situationen sollte man testen? Funktioniert die Funktion in\n",
    "allen Fällen korrekt? <br>\n",
    "Ich werde testen ob ein hoher Wert am Anfang oder ein Tiefer Wert am Ende das Resultat verändert"
   ],
   "cell_type": "markdown",
   "metadata": {}
  },
  {
   "cell_type": "code",
   "execution_count": 6,
   "metadata": {},
   "outputs": [
    {
     "output_type": "stream",
     "name": "stderr",
     "text": [
      "test_highbeginning (__main__.TestMaxsubSeq) ... ok\n",
      "test_lowatend (__main__.TestMaxsubSeq) ... ok\n",
      "\n",
      "----------------------------------------------------------------------\n",
      "Ran 2 tests in 0.014s\n",
      "\n",
      "OK\n"
     ]
    },
    {
     "output_type": "execute_result",
     "data": {
      "text/plain": [
       "<unittest.main.TestProgram at 0x11255a510>"
      ]
     },
     "metadata": {},
     "execution_count": 6
    }
   ],
   "source": [
    "import unittest\n",
    "\n",
    "class TestMaxsubSeq(unittest.TestCase):\n",
    "    \n",
    "    def test_lowatend(self):\n",
    "        data = [-10,1,5,-4,25]\n",
    "        data_lowatend = data.copy()\n",
    "        data_lowatend.append(-100)\n",
    "        self.assertEqual(max_profit(data), max_profit(data_lowatend))\n",
    "        \n",
    "    def test_highbeginning(self):\n",
    "        data = [-10,1,5,-4,25]\n",
    "        data_highbeginning = data.copy()\n",
    "        data_highbeginning.insert(0, 100)\n",
    "        self.assertEqual(max_profit(data), max_profit(data_highbeginning))\n",
    "\n",
    "unittest.main(argv=[''], verbosity=2, exit=False)"
   ]
  },
  {
   "cell_type": "code",
   "execution_count": 11,
   "metadata": {},
   "outputs": [],
   "source": [
    "import numpy as np\n",
    "import time \n",
    "np.random.seed(10)\n",
    "times = []\n",
    "for i in [i*100 for i in range(1,50)]:\n",
    "    data = np.random.randint(low = -100, high=100, size=i)\n",
    "    start = time.time()\n",
    "    max_profit(data)\n",
    "    times.append((time.time()-start)*1000)"
   ]
  },
  {
   "cell_type": "code",
   "execution_count": 16,
   "metadata": {},
   "outputs": [
    {
     "output_type": "display_data",
     "data": {
      "text/plain": "<Figure size 432x288 with 1 Axes>",
      "image/png": "[encoded data removed]"
     },
     "metadata": {
      "needs_background": "light"
     }
    }
   ],
   "source": [
    "import matplotlib.pyplot as plt\n",
    "Y = times\n",
    "X = [i*100 for i  in range(len(times))]\n",
    "plt.plot(X, Y)\n",
    "plt.ylabel('time in ms')\n",
    "plt.xlabel('länge der Liste für die Funktion')\n",
    "plt.show()"
   ]
  }
 ]
}